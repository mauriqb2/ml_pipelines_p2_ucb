{
 "cells": [
  {
   "cell_type": "code",
   "execution_count": 232,
   "id": "5e725143",
   "metadata": {},
   "outputs": [],
   "source": [
    "from azure.ai.ml import load_component\n",
    "from azure.ai.ml.dsl import pipeline\n",
    "from azure.ai.ml import MLClient, Input\n",
    "from azure.identity import DefaultAzureCredential, EnvironmentCredential\n",
    "from azure.ai.ml.entities import AmlCompute\n",
    "from dotenv import load_dotenv\n",
    "import os\n",
    "import pandas as pd"
   ]
  },
  {
   "cell_type": "code",
   "execution_count": 233,
   "id": "cd97158e",
   "metadata": {},
   "outputs": [
    {
     "name": "stdout",
     "output_type": "stream",
     "text": [
      "Cargar username/pass desde archivo .env\n"
     ]
    },
    {
     "data": {
      "text/plain": [
       "True"
      ]
     },
     "execution_count": 233,
     "metadata": {},
     "output_type": "execute_result"
    }
   ],
   "source": [
    "#Omitir este paso en azure\n",
    "print(\"Cargar username/pass desde archivo .env\")\n",
    "load_dotenv(\"env.txt\", override=True)"
   ]
  },
  {
   "cell_type": "code",
   "execution_count": 234,
   "id": "8418b7dc",
   "metadata": {},
   "outputs": [],
   "source": [
    "def get_comput_target(ml_client, name=\"cpu-cluster\", family='Standard_DS2_v2'):\n",
    "    cpu_compute_target = name\n",
    "    \n",
    "    try:\n",
    "        # let's see if the compute target already exists\n",
    "        cpu_cluster = ml_client.compute.get(cpu_compute_target)\n",
    "    except Exception:\n",
    "        cpu_cluster = AmlCompute(\n",
    "            name=cpu_compute_target,\n",
    "            type=\"amlcompute\",\n",
    "            size=family,\n",
    "            min_instances=0,\n",
    "            max_instances=4,\n",
    "            idle_time_before_scale_down=180,\n",
    "            tier=\"Dedicated\",\n",
    "        )\n",
    "    \n",
    "        cpu_cluster = ml_client.compute.begin_create_or_update(cpu_cluster).result()"
   ]
  },
  {
   "cell_type": "code",
   "execution_count": 235,
   "id": "eee09f58",
   "metadata": {},
   "outputs": [
    {
     "name": "stderr",
     "output_type": "stream",
     "text": [
      "Found the config file in: .\\config.json\n"
     ]
    }
   ],
   "source": [
    "credential = DefaultAzureCredential()\n",
    "ml_client = MLClient.from_config(credential=credential)"
   ]
  },
  {
   "cell_type": "code",
   "execution_count": 236,
   "id": "3df4766b",
   "metadata": {},
   "outputs": [
    {
     "data": {
      "text/plain": [
       "AccessToken(token='eyJ0eXAiOiJKV1QiLCJhbGciOiJSUzI1NiIsIng1dCI6IjlHbW55RlBraGMzaE91UjIybXZTdmduTG83WSIsImtpZCI6IjlHbW55RlBraGMzaE91UjIybXZTdmduTG83WSJ9.eyJhdWQiOiJodHRwczovL21hbmFnZW1lbnQuYXp1cmUuY29tIiwiaXNzIjoiaHR0cHM6Ly9zdHMud2luZG93cy5uZXQvY2MyODYzM2YtMTJiOC00NmNiLWJjMTUtOTUxZGFlMjM5YjRkLyIsImlhdCI6MTY5OTQ3OTMxNywibmJmIjoxNjk5NDc5MzE3LCJleHAiOjE2OTk0ODMyMTcsImFpbyI6IkUyVmdZUGl5UmMweGNibFgwdklHOFRrejhqaVpBQT09IiwiYXBwaWQiOiJhMjcwZGI3OC1lODMwLTQxZTYtOTY5My1kMjg2N2I2ZWI4NWYiLCJhcHBpZGFjciI6IjEiLCJpZHAiOiJodHRwczovL3N0cy53aW5kb3dzLm5ldC9jYzI4NjMzZi0xMmI4LTQ2Y2ItYmMxNS05NTFkYWUyMzliNGQvIiwiaWR0eXAiOiJhcHAiLCJvaWQiOiJkY2VmMmQ2OS03NDAzLTRlYWUtODJmYy0yM2U0MjhmZjA5MmUiLCJyaCI6IjAuQVFvQVAyTW96TGdTeTBhOEZaVWRyaU9iVFVaSWYza0F1dGRQdWtQYXdmajJNQk1LQUFBLiIsInN1YiI6ImRjZWYyZDY5LTc0MDMtNGVhZS04MmZjLTIzZTQyOGZmMDkyZSIsInRpZCI6ImNjMjg2MzNmLTEyYjgtNDZjYi1iYzE1LTk1MWRhZTIzOWI0ZCIsInV0aSI6InJ3akRxdEllcUVhbU54LUdZQVZPQVEiLCJ2ZXIiOiIxLjAiLCJ4bXNfY2FlIjoiMSIsInhtc190Y2R0IjoxNDY1ODQ5MzEyfQ.uBUGVXAMMqDwNNe5tIGguQbh4Mn7Yfxv2MYWrUyvmlrucfXNlsGndD1YEUptrHTKOh0uKtItalJolmd_5dNBfaboWTeIWmRnWLCivBnhl7-Iw1UZtoRhICVwHxAtQsEHD1zF2mglZJcgZ5zYbPxb73nT9YINcsw4-wKX7R3YQc_f6p1T256V1GNsbmiJJXKvXKDeOhtCn0kE_1dbbP68kf7m0nmY0Vo4DNxGXy6ix5foJi8ksMq1Tp18CXoTBZif_IIhZU4IrYI_hUPJ5nLVjI3GFxyPri2Rg84wqnAFYVnI1V7PryhcEVeuZXxB2cDP_rQGWWT1IwBEjjwhJvCSIw', expires_on=1699483214)"
      ]
     },
     "execution_count": 236,
     "metadata": {},
     "output_type": "execute_result"
    }
   ],
   "source": [
    "#Omitir este paso en azure\n",
    "credential.get_token(\"https://management.azure.com/.default\")"
   ]
  },
  {
   "cell_type": "code",
   "execution_count": 237,
   "id": "6b2e69b2",
   "metadata": {},
   "outputs": [],
   "source": [
    "compute_target = get_comput_target(ml_client)"
   ]
  },
  {
   "cell_type": "code",
   "execution_count": 238,
   "id": "82a4e649",
   "metadata": {},
   "outputs": [],
   "source": [
    "clean_component = load_component(source=\"./components/dataset_clean/dataset_clean.yaml\")\n",
    "split_data_component = load_component(source=\"./components/split_data/split_data.yaml\")\n",
    "exploration_component = load_component(source=\"./components/data_exploration/data_exploration.yaml\")\n",
    "train_logistic_regression_component = load_component(source=\"./components/train_logistic_regression/train_logistic_regression.yaml\")\n",
    "train_decission_tree_component = load_component(source=\"./components/train_decission_tree/train_decission_tree.yaml\")\n",
    "score_model_component = load_component(source=\"./components/score_model/score_model.yaml\")\n",
    "evaluate_model_component = load_component(source=\"./components/evaluate_model/evaluate_model.yaml\")"
   ]
  },
  {
   "cell_type": "code",
   "execution_count": 239,
   "id": "ebef07a8",
   "metadata": {
    "scrolled": false
   },
   "outputs": [],
   "source": [
    "@pipeline(\n",
    "    default_compute='cpu-cluster',\n",
    ")\n",
    "def water_potability_logistic_regression(pipeline_input_data):\n",
    "\n",
    "    clean_node = clean_component(\n",
    "        clean_data=pipeline_input_data,\n",
    "    )\n",
    "    \n",
    "    exploration_node = exploration_component(\n",
    "        exploration_data=clean_node.outputs.cleaned_data\n",
    "    )\n",
    "    \n",
    "    split_node = split_data_component(\n",
    "        data_path=clean_node.outputs.cleaned_data,\n",
    "        test_size=0.2,\n",
    "        random_state=42,\n",
    "    )\n",
    "    \n",
    "    train_lr_node = train_logistic_regression_component(\n",
    "        train_data_path=split_node.outputs.train_data,\n",
    "    )\n",
    "\n",
    "    score_node = score_model_component(\n",
    "        test_data_path=split_node.outputs.test_data,\n",
    "        model_path=train_lr_node.outputs.trained_model,\n",
    "    )\n",
    "    \n",
    "    evaluate_node = evaluate_model_component(\n",
    "        predictions_csv=score_node.outputs.predictions_csv,\n",
    "        true_labels_csv=split_node.outputs.test_labels,\n",
    "    )\n",
    "\n",
    "    return {\n",
    "        \"pipeline_logistic_regression_trained_model\": train_lr_node.outputs.trained_model,\n",
    "        \"pipeline_logistic_regression_evaluation_report\": evaluate_node.outputs.report_csv,\n",
    "        \"pipeline_logistic_regression_confusion_matrix\": evaluate_node.outputs.confusion_matrix\n",
    "    }\n",
    "\n",
    "water_potability_ds =  Input(\n",
    "            type=\"uri_file\",\n",
    "            path=\"azureml://subscriptions/ba1f7bf8-2be6-4bed-b818-c745bda74905/resourcegroups/primer_proyecto/workspaces/primer_proyecto/datastores/workspaceblobstore/paths/UI/2023-11-06_001630_UTC/water_potability_ds.csv\",\n",
    "        )\n",
    "pipeline_job = water_potability_logistic_regression(pipeline_input_data=water_potability_ds)\n"
   ]
  },
  {
   "cell_type": "code",
   "execution_count": 240,
   "id": "cc7575a1",
   "metadata": {},
   "outputs": [
    {
     "data": {
      "text/html": [
       "<table style=\"width:100%\"><tr><th>Experiment</th><th>Name</th><th>Type</th><th>Status</th><th>Details Page</th></tr><tr><td>pipeline_water_potability</td><td>coral_papaya_sm68nlqcdy</td><td>pipeline</td><td>Preparing</td><td><a href=\"https://ml.azure.com/runs/coral_papaya_sm68nlqcdy?wsid=/subscriptions/ba1f7bf8-2be6-4bed-b818-c745bda74905/resourcegroups/primer_proyecto/workspaces/primer_proyecto&amp;tid=cc28633f-12b8-46cb-bc15-951dae239b4d\" target=\"_blank\" rel=\"noopener\">Link to Azure Machine Learning studio</a></td></tr></table>"
      ],
      "text/plain": [
       "PipelineJob({'inputs': {'pipeline_input_data': <azure.ai.ml.entities._job.pipeline._io.base.PipelineInput object at 0x0000028E7CC736D0>}, 'outputs': {'pipeline_logistic_regression_trained_model': <azure.ai.ml.entities._job.pipeline._io.base.PipelineOutput object at 0x0000028E7CC736A0>, 'pipeline_logistic_regression_evaluation_report': <azure.ai.ml.entities._job.pipeline._io.base.PipelineOutput object at 0x0000028E7CC73040>, 'pipeline_logistic_regression_confusion_matrix': <azure.ai.ml.entities._job.pipeline._io.base.PipelineOutput object at 0x0000028E7CC733D0>}, 'jobs': {}, 'component': PipelineComponent({'intellectual_property': None, 'auto_increment_version': False, 'source': 'REMOTE.WORKSPACE.JOB', 'is_anonymous': True, 'auto_delete_setting': None, 'name': 'azureml_anonymous', 'description': None, 'tags': {}, 'properties': {}, 'print_as_yaml': True, 'id': None, 'Resource__source_path': None, 'base_path': 'C:\\\\Users\\\\ASUS TUF DASH F15\\\\Desktop\\\\proy-2', 'creation_context': None, 'serialize': <msrest.serialization.Serializer object at 0x0000028E7CC72470>, 'version': '1', 'latest_version': None, 'schema': None, 'type': 'pipeline', 'display_name': 'water_potability_logistic_regression', 'is_deterministic': None, 'inputs': {'pipeline_input_data': {}}, 'outputs': {'pipeline_logistic_regression_trained_model': {}, 'pipeline_logistic_regression_evaluation_report': {}, 'pipeline_logistic_regression_confusion_matrix': {}}, 'yaml_str': None, 'other_parameter': {}, 'jobs': {'clean_node': Command({'parameters': {}, 'init': False, 'name': 'clean_node', 'type': 'command', 'status': None, 'log_files': None, 'description': None, 'tags': {}, 'properties': {}, 'print_as_yaml': True, 'id': None, 'Resource__source_path': None, 'base_path': 'C:\\\\Users\\\\ASUS TUF DASH F15\\\\Desktop\\\\proy-2', 'creation_context': None, 'serialize': <msrest.serialization.Serializer object at 0x0000028E7CC70310>, 'allowed_keys': {}, 'key_restriction': False, 'logger': <Logger attr_dict (WARNING)>, 'display_name': None, 'experiment_name': None, 'compute': None, 'services': None, 'comment': None, 'job_inputs': {'clean_data': '${{parent.inputs.pipeline_input_data}}'}, 'job_outputs': {}, 'inputs': {'clean_data': <azure.ai.ml.entities._job.pipeline._io.base.NodeInput object at 0x0000028E7CC710F0>}, 'outputs': {}, 'component': 'azureml_anonymous:4ce181be-2964-40b5-8726-75a25b2ea9e9', 'referenced_control_flow_node_instance_id': None, 'kwargs': {'services': None}, 'instance_id': 'e6c7ec7b-e896-4786-8578-e1fbd68e0526', 'source': 'REMOTE.WORKSPACE.COMPONENT', 'validate_required_input_not_provided': True, 'limits': None, 'identity': None, 'distribution': None, 'environment_variables': {}, 'environment': None, 'resources': None, 'queue_settings': None, 'swept': False}), 'exploration_node': Command({'parameters': {}, 'init': False, 'name': 'exploration_node', 'type': 'command', 'status': None, 'log_files': None, 'description': None, 'tags': {}, 'properties': {}, 'print_as_yaml': True, 'id': None, 'Resource__source_path': None, 'base_path': 'C:\\\\Users\\\\ASUS TUF DASH F15\\\\Desktop\\\\proy-2', 'creation_context': None, 'serialize': <msrest.serialization.Serializer object at 0x0000028E7CC726E0>, 'allowed_keys': {}, 'key_restriction': False, 'logger': <Logger attr_dict (WARNING)>, 'display_name': None, 'experiment_name': None, 'compute': None, 'services': None, 'comment': None, 'job_inputs': {'exploration_data': '${{parent.jobs.clean_node.outputs.cleaned_data}}'}, 'job_outputs': {}, 'inputs': {'exploration_data': <azure.ai.ml.entities._job.pipeline._io.base.NodeInput object at 0x0000028E7CC71CC0>}, 'outputs': {}, 'component': 'azureml_anonymous:bada8d18-a5c7-4da5-be66-5c3b881dc9fc', 'referenced_control_flow_node_instance_id': None, 'kwargs': {'services': None}, 'instance_id': '86f43de9-1cd6-4dab-b969-06508ab5081c', 'source': 'REMOTE.WORKSPACE.COMPONENT', 'validate_required_input_not_provided': True, 'limits': None, 'identity': None, 'distribution': None, 'environment_variables': {}, 'environment': None, 'resources': None, 'queue_settings': None, 'swept': False}), 'split_node': Command({'parameters': {}, 'init': False, 'name': 'split_node', 'type': 'command', 'status': None, 'log_files': None, 'description': None, 'tags': {}, 'properties': {}, 'print_as_yaml': True, 'id': None, 'Resource__source_path': None, 'base_path': 'C:\\\\Users\\\\ASUS TUF DASH F15\\\\Desktop\\\\proy-2', 'creation_context': None, 'serialize': <msrest.serialization.Serializer object at 0x0000028E7CC71DE0>, 'allowed_keys': {}, 'key_restriction': False, 'logger': <Logger attr_dict (WARNING)>, 'display_name': None, 'experiment_name': None, 'compute': None, 'services': None, 'comment': None, 'job_inputs': {'test_size': '0.2', 'random_state': '42', 'data_path': '${{parent.jobs.clean_node.outputs.cleaned_data}}'}, 'job_outputs': {}, 'inputs': {'test_size': <azure.ai.ml.entities._job.pipeline._io.base.NodeInput object at 0x0000028E7CC71690>, 'random_state': <azure.ai.ml.entities._job.pipeline._io.base.NodeInput object at 0x0000028E7CC718A0>, 'data_path': <azure.ai.ml.entities._job.pipeline._io.base.NodeInput object at 0x0000028E7CC73AF0>}, 'outputs': {}, 'component': 'azureml_anonymous:8837bfa3-6541-457e-8968-1b642c4d56bd', 'referenced_control_flow_node_instance_id': None, 'kwargs': {'services': None}, 'instance_id': '734f251f-10b7-4dc9-9cb0-f5f20888e8d1', 'source': 'REMOTE.WORKSPACE.COMPONENT', 'validate_required_input_not_provided': True, 'limits': None, 'identity': None, 'distribution': None, 'environment_variables': {}, 'environment': None, 'resources': None, 'queue_settings': None, 'swept': False}), 'train_lr_node': Command({'parameters': {}, 'init': False, 'name': 'train_lr_node', 'type': 'command', 'status': None, 'log_files': None, 'description': None, 'tags': {}, 'properties': {}, 'print_as_yaml': True, 'id': None, 'Resource__source_path': None, 'base_path': 'C:\\\\Users\\\\ASUS TUF DASH F15\\\\Desktop\\\\proy-2', 'creation_context': None, 'serialize': <msrest.serialization.Serializer object at 0x0000028E7CC701C0>, 'allowed_keys': {}, 'key_restriction': False, 'logger': <Logger attr_dict (WARNING)>, 'display_name': None, 'experiment_name': None, 'compute': None, 'services': None, 'comment': None, 'job_inputs': {'train_data_path': '${{parent.jobs.split_node.outputs.train_data}}'}, 'job_outputs': {'trained_model': '${{parent.outputs.pipeline_logistic_regression_trained_model}}'}, 'inputs': {'train_data_path': <azure.ai.ml.entities._job.pipeline._io.base.NodeInput object at 0x0000028E7CC724A0>}, 'outputs': {'trained_model': <azure.ai.ml.entities._job.pipeline._io.base.NodeOutput object at 0x0000028E7CC73070>}, 'component': 'azureml_anonymous:a710e4c3-c3a7-4dec-a926-a12add9c3776', 'referenced_control_flow_node_instance_id': None, 'kwargs': {'services': None}, 'instance_id': 'ab454ea7-4a62-41db-ac28-a9272f64587f', 'source': 'REMOTE.WORKSPACE.COMPONENT', 'validate_required_input_not_provided': True, 'limits': None, 'identity': None, 'distribution': None, 'environment_variables': {}, 'environment': None, 'resources': None, 'queue_settings': None, 'swept': False}), 'score_node': Command({'parameters': {}, 'init': False, 'name': 'score_node', 'type': 'command', 'status': None, 'log_files': None, 'description': None, 'tags': {}, 'properties': {}, 'print_as_yaml': True, 'id': None, 'Resource__source_path': None, 'base_path': 'C:\\\\Users\\\\ASUS TUF DASH F15\\\\Desktop\\\\proy-2', 'creation_context': None, 'serialize': <msrest.serialization.Serializer object at 0x0000028E7CC70070>, 'allowed_keys': {}, 'key_restriction': False, 'logger': <Logger attr_dict (WARNING)>, 'display_name': None, 'experiment_name': None, 'compute': None, 'services': None, 'comment': None, 'job_inputs': {'model_path': '${{parent.jobs.train_lr_node.outputs.trained_model}}', 'test_data_path': '${{parent.jobs.split_node.outputs.test_data}}'}, 'job_outputs': {}, 'inputs': {'model_path': <azure.ai.ml.entities._job.pipeline._io.base.NodeInput object at 0x0000028E7CC73280>, 'test_data_path': <azure.ai.ml.entities._job.pipeline._io.base.NodeInput object at 0x0000028E7CC703D0>}, 'outputs': {}, 'component': 'azureml_anonymous:e3bae257-3d95-4b33-aeaa-8513e7a235aa', 'referenced_control_flow_node_instance_id': None, 'kwargs': {'services': None}, 'instance_id': 'c2c66d2e-6121-433e-8408-b6ba3483810e', 'source': 'REMOTE.WORKSPACE.COMPONENT', 'validate_required_input_not_provided': True, 'limits': None, 'identity': None, 'distribution': None, 'environment_variables': {}, 'environment': None, 'resources': None, 'queue_settings': None, 'swept': False}), 'evaluate_node': Command({'parameters': {}, 'init': False, 'name': 'evaluate_node', 'type': 'command', 'status': None, 'log_files': None, 'description': None, 'tags': {}, 'properties': {}, 'print_as_yaml': True, 'id': None, 'Resource__source_path': None, 'base_path': 'C:\\\\Users\\\\ASUS TUF DASH F15\\\\Desktop\\\\proy-2', 'creation_context': None, 'serialize': <msrest.serialization.Serializer object at 0x0000028E7CC73850>, 'allowed_keys': {}, 'key_restriction': False, 'logger': <Logger attr_dict (WARNING)>, 'display_name': None, 'experiment_name': None, 'compute': None, 'services': None, 'comment': None, 'job_inputs': {'predictions_csv': '${{parent.jobs.score_node.outputs.predictions_csv}}', 'true_labels_csv': '${{parent.jobs.split_node.outputs.test_labels}}'}, 'job_outputs': {'report_csv': '${{parent.outputs.pipeline_logistic_regression_evaluation_report}}', 'confusion_matrix': '${{parent.outputs.pipeline_logistic_regression_confusion_matrix}}'}, 'inputs': {'predictions_csv': <azure.ai.ml.entities._job.pipeline._io.base.NodeInput object at 0x0000028E7CC71EA0>, 'true_labels_csv': <azure.ai.ml.entities._job.pipeline._io.base.NodeInput object at 0x0000028E7CC71ED0>}, 'outputs': {'report_csv': <azure.ai.ml.entities._job.pipeline._io.base.NodeOutput object at 0x0000028E7CC72D40>, 'confusion_matrix': <azure.ai.ml.entities._job.pipeline._io.base.NodeOutput object at 0x0000028E7CC71AE0>}, 'component': 'azureml_anonymous:f4b971d7-f106-4bbd-9a47-3ac2a0dbaa2b', 'referenced_control_flow_node_instance_id': None, 'kwargs': {'services': None}, 'instance_id': 'af44bdc1-da65-4c99-9718-063101123341', 'source': 'REMOTE.WORKSPACE.COMPONENT', 'validate_required_input_not_provided': True, 'limits': None, 'identity': None, 'distribution': None, 'environment_variables': {}, 'environment': None, 'resources': None, 'queue_settings': None, 'swept': False})}, 'job_types': {'command': 6}, 'job_sources': {'REMOTE.WORKSPACE.COMPONENT': 6}, 'source_job_id': None}), 'type': 'pipeline', 'status': 'Preparing', 'log_files': None, 'name': 'coral_papaya_sm68nlqcdy', 'description': None, 'tags': {}, 'properties': {'mlflow.source.git.repoURL': 'https://github.com/mauriqb2/ml_pipelines_p2_ucb.git', 'mlflow.source.git.branch': 'master', 'mlflow.source.git.commit': 'c9bb312d08867db3d2f2f56cb1e2c22f172ccdce', 'azureml.git.dirty': 'True', 'azureml.DevPlatv2': 'true', 'azureml.DatasetAccessMode': 'Asset', 'azureml.runsource': 'azureml.PipelineRun', 'runSource': 'MFE', 'runType': 'HTTP', 'azureml.parameters': '{}', 'azureml.continue_on_step_failure': 'True', 'azureml.continue_on_failed_optional_input': 'True', 'azureml.enforceRerun': 'False', 'azureml.defaultComputeName': 'cpu-cluster', 'azureml.defaultDataStoreName': 'workspaceblobstore', 'azureml.pipelineComponent': 'pipelinerun'}, 'print_as_yaml': True, 'id': '/subscriptions/ba1f7bf8-2be6-4bed-b818-c745bda74905/resourceGroups/primer_proyecto/providers/Microsoft.MachineLearningServices/workspaces/primer_proyecto/jobs/coral_papaya_sm68nlqcdy', 'Resource__source_path': None, 'base_path': 'C:\\\\Users\\\\ASUS TUF DASH F15\\\\Desktop\\\\proy-2', 'creation_context': <azure.ai.ml.entities._system_data.SystemData object at 0x0000028E7CC72410>, 'serialize': <msrest.serialization.Serializer object at 0x0000028E7CC73CA0>, 'display_name': 'water_potability_logistic_regression', 'experiment_name': 'pipeline_water_potability', 'compute': None, 'services': {'Tracking': {'endpoint': 'azureml://eastus2.api.azureml.ms/mlflow/v1.0/subscriptions/ba1f7bf8-2be6-4bed-b818-c745bda74905/resourceGroups/primer_proyecto/providers/Microsoft.MachineLearningServices/workspaces/primer_proyecto?', 'type': 'Tracking'}, 'Studio': {'endpoint': 'https://ml.azure.com/runs/coral_papaya_sm68nlqcdy?wsid=/subscriptions/ba1f7bf8-2be6-4bed-b818-c745bda74905/resourcegroups/primer_proyecto/workspaces/primer_proyecto&tid=cc28633f-12b8-46cb-bc15-951dae239b4d', 'type': 'Studio'}}, 'settings': {}, 'identity': None, 'default_code': None, 'default_environment': None})"
      ]
     },
     "execution_count": 240,
     "metadata": {},
     "output_type": "execute_result"
    }
   ],
   "source": [
    "pipeline_job = ml_client.jobs.create_or_update(\n",
    "    pipeline_job, experiment_name=\"pipeline_water_potability\"\n",
    ")\n",
    "pipeline_job"
   ]
  },
  {
   "cell_type": "code",
   "execution_count": 241,
   "id": "2a27ac08",
   "metadata": {},
   "outputs": [
    {
     "name": "stdout",
     "output_type": "stream",
     "text": [
      "RunId: coral_papaya_sm68nlqcdy\n",
      "Web View: https://ml.azure.com/runs/coral_papaya_sm68nlqcdy?wsid=/subscriptions/ba1f7bf8-2be6-4bed-b818-c745bda74905/resourcegroups/primer_proyecto/workspaces/primer_proyecto\n",
      "\n",
      "Execution Summary\n",
      "=================\n",
      "RunId: coral_papaya_sm68nlqcdy\n",
      "Web View: https://ml.azure.com/runs/coral_papaya_sm68nlqcdy?wsid=/subscriptions/ba1f7bf8-2be6-4bed-b818-c745bda74905/resourcegroups/primer_proyecto/workspaces/primer_proyecto\n",
      "\n"
     ]
    }
   ],
   "source": [
    "# wait until the job completes\n",
    "ml_client.jobs.stream(pipeline_job.name)"
   ]
  },
  {
   "cell_type": "code",
   "execution_count": 242,
   "id": "da6d3792",
   "metadata": {},
   "outputs": [
    {
     "name": "stderr",
     "output_type": "stream",
     "text": [
      "Downloading artifact azureml://subscriptions/ba1f7bf8-2be6-4bed-b818-c745bda74905/resourcegroups/primer_proyecto/workspaces/primer_proyecto/datastores/workspaceblobstore/paths/azureml/9cdc0474-8aef-487f-a623-93d94440a8ed/trained_model to pipeline_output\\named-outputs\\pipeline_logistic_regression_trained_model\n",
      "Downloading artifact azureml://subscriptions/ba1f7bf8-2be6-4bed-b818-c745bda74905/resourcegroups/primer_proyecto/workspaces/primer_proyecto/datastores/workspaceblobstore/paths/azureml/49dd9a27-2607-44f2-91a0-73e227697431/report_csv to pipeline_output\\named-outputs\\pipeline_logistic_regression_evaluation_report\n",
      "Downloading artifact azureml://subscriptions/ba1f7bf8-2be6-4bed-b818-c745bda74905/resourcegroups/primer_proyecto/workspaces/primer_proyecto/datastores/workspaceblobstore/paths/azureml/49dd9a27-2607-44f2-91a0-73e227697431/confusion_matrix/ to pipeline_output\\named-outputs\\pipeline_logistic_regression_confusion_matrix\n",
      "Downloading artifact azureml://datastores/workspaceartifactstore/paths/ExperimentRun/dcid.coral_papaya_sm68nlqcdy/ to pipeline_output\\artifacts\n"
     ]
    }
   ],
   "source": [
    "# Download all the outputs of the job\n",
    "output = ml_client.jobs.download(name=pipeline_job.name, download_path='./pipeline_output', all=True)"
   ]
  },
  {
   "cell_type": "code",
   "execution_count": 217,
   "id": "6e445f2d",
   "metadata": {},
   "outputs": [],
   "source": [
    "@pipeline(\n",
    "    default_compute='cpu-cluster',\n",
    ")\n",
    "def water_potability_decission_tree(pipeline_input_data):\n",
    "\n",
    "    clean_node = clean_component(\n",
    "        clean_data=pipeline_input_data,\n",
    "    )\n",
    "    \n",
    "    exploration_node = exploration_component(\n",
    "        exploration_data=clean_node.outputs.cleaned_data\n",
    "    )\n",
    "    \n",
    "    split_node = split_data_component(\n",
    "        data_path=clean_node.outputs.cleaned_data,\n",
    "        test_size=0.2,\n",
    "        random_state=42,\n",
    "    )\n",
    "    \n",
    "    train_dt_node = train_decission_tree_component(\n",
    "        train_data_path=split_node.outputs.train_data,\n",
    "    )\n",
    "\n",
    "    score_node = score_model_component(\n",
    "        test_data_path=split_node.outputs.test_data,\n",
    "        model_path=train_dt_node.outputs.trained_model,\n",
    "    )\n",
    "    \n",
    "    evaluate_node = evaluate_model_component(\n",
    "        predictions_csv=score_node.outputs.predictions_csv,\n",
    "        true_labels_csv=split_node.outputs.test_labels,\n",
    "    )\n",
    "\n",
    "    return {\n",
    "        \"pipeline_decission_tree_trained_model\": train_dt_node.outputs.trained_model,\n",
    "        \"pipeline_decission_tree_evaluation_report\": evaluate_node.outputs.report_csv,\n",
    "        \"pipeline_decission_tree_confusion_matrix\": evaluate_node.outputs.confusion_matrix\n",
    "    }\n",
    "\n",
    "\n",
    "# create a pipeline\n",
    "water_potability_ds =  Input(\n",
    "            type=\"uri_file\",\n",
    "            path=\"azureml://subscriptions/ba1f7bf8-2be6-4bed-b818-c745bda74905/resourcegroups/primer_proyecto/workspaces/primer_proyecto/datastores/workspaceblobstore/paths/UI/2023-11-06_001630_UTC/water_potability_ds.csv\",\n",
    "        )\n",
    "pipeline_job = water_potability_decission_tree(pipeline_input_data=water_potability_ds)"
   ]
  },
  {
   "cell_type": "code",
   "execution_count": 218,
   "id": "a64c3a86",
   "metadata": {},
   "outputs": [
    {
     "data": {
      "text/html": [
       "<table style=\"width:100%\"><tr><th>Experiment</th><th>Name</th><th>Type</th><th>Status</th><th>Details Page</th></tr><tr><td>pipeline_water_potability</td><td>gentle_iron_nq8c81gqbw</td><td>pipeline</td><td>Preparing</td><td><a href=\"https://ml.azure.com/runs/gentle_iron_nq8c81gqbw?wsid=/subscriptions/ba1f7bf8-2be6-4bed-b818-c745bda74905/resourcegroups/primer_proyecto/workspaces/primer_proyecto&amp;tid=cc28633f-12b8-46cb-bc15-951dae239b4d\" target=\"_blank\" rel=\"noopener\">Link to Azure Machine Learning studio</a></td></tr></table>"
      ],
      "text/plain": [
       "PipelineJob({'inputs': {'pipeline_input_data': <azure.ai.ml.entities._job.pipeline._io.base.PipelineInput object at 0x0000028E7A293FD0>}, 'outputs': {'pipeline_decission_tree_trained_model': <azure.ai.ml.entities._job.pipeline._io.base.PipelineOutput object at 0x0000028E7A292D70>, 'pipeline_decission_tree_evaluation_report': <azure.ai.ml.entities._job.pipeline._io.base.PipelineOutput object at 0x0000028E7A292A70>, 'pipeline_decission_tree_confusion_matrix': <azure.ai.ml.entities._job.pipeline._io.base.PipelineOutput object at 0x0000028E7A291A20>}, 'jobs': {}, 'component': PipelineComponent({'intellectual_property': None, 'auto_increment_version': False, 'source': 'REMOTE.WORKSPACE.JOB', 'is_anonymous': True, 'auto_delete_setting': None, 'name': 'azureml_anonymous', 'description': None, 'tags': {}, 'properties': {}, 'print_as_yaml': True, 'id': None, 'Resource__source_path': None, 'base_path': 'C:\\\\Users\\\\ASUS TUF DASH F15\\\\Desktop\\\\proy-2', 'creation_context': None, 'serialize': <msrest.serialization.Serializer object at 0x0000028E7A2917E0>, 'version': '1', 'latest_version': None, 'schema': None, 'type': 'pipeline', 'display_name': 'water_potability_decission_tree', 'is_deterministic': None, 'inputs': {'pipeline_input_data': {}}, 'outputs': {'pipeline_decission_tree_trained_model': {}, 'pipeline_decission_tree_evaluation_report': {}, 'pipeline_decission_tree_confusion_matrix': {}}, 'yaml_str': None, 'other_parameter': {}, 'jobs': {'clean_node': Command({'parameters': {}, 'init': False, 'name': 'clean_node', 'type': 'command', 'status': None, 'log_files': None, 'description': None, 'tags': {}, 'properties': {}, 'print_as_yaml': True, 'id': None, 'Resource__source_path': None, 'base_path': 'C:\\\\Users\\\\ASUS TUF DASH F15\\\\Desktop\\\\proy-2', 'creation_context': None, 'serialize': <msrest.serialization.Serializer object at 0x0000028E7A290910>, 'allowed_keys': {}, 'key_restriction': False, 'logger': <Logger attr_dict (WARNING)>, 'display_name': None, 'experiment_name': None, 'compute': None, 'services': None, 'comment': None, 'job_inputs': {'clean_data': '${{parent.inputs.pipeline_input_data}}'}, 'job_outputs': {}, 'inputs': {'clean_data': <azure.ai.ml.entities._job.pipeline._io.base.NodeInput object at 0x0000028E7A293070>}, 'outputs': {}, 'component': 'azureml_anonymous:4ce181be-2964-40b5-8726-75a25b2ea9e9', 'referenced_control_flow_node_instance_id': None, 'kwargs': {'services': None}, 'instance_id': 'd7e3e8cb-fad3-4601-80aa-ee344e0b16a0', 'source': 'REMOTE.WORKSPACE.COMPONENT', 'validate_required_input_not_provided': True, 'limits': None, 'identity': None, 'distribution': None, 'environment_variables': {}, 'environment': None, 'resources': None, 'queue_settings': None, 'swept': False}), 'exploration_node': Command({'parameters': {}, 'init': False, 'name': 'exploration_node', 'type': 'command', 'status': None, 'log_files': None, 'description': None, 'tags': {}, 'properties': {}, 'print_as_yaml': True, 'id': None, 'Resource__source_path': None, 'base_path': 'C:\\\\Users\\\\ASUS TUF DASH F15\\\\Desktop\\\\proy-2', 'creation_context': None, 'serialize': <msrest.serialization.Serializer object at 0x0000028E7A2932E0>, 'allowed_keys': {}, 'key_restriction': False, 'logger': <Logger attr_dict (WARNING)>, 'display_name': None, 'experiment_name': None, 'compute': None, 'services': None, 'comment': None, 'job_inputs': {'exploration_data': '${{parent.jobs.clean_node.outputs.cleaned_data}}'}, 'job_outputs': {}, 'inputs': {'exploration_data': <azure.ai.ml.entities._job.pipeline._io.base.NodeInput object at 0x0000028E7A2931C0>}, 'outputs': {}, 'component': 'azureml_anonymous:bada8d18-a5c7-4da5-be66-5c3b881dc9fc', 'referenced_control_flow_node_instance_id': None, 'kwargs': {'services': None}, 'instance_id': '037f9be0-e1cd-442a-a2b5-d247223abd7f', 'source': 'REMOTE.WORKSPACE.COMPONENT', 'validate_required_input_not_provided': True, 'limits': None, 'identity': None, 'distribution': None, 'environment_variables': {}, 'environment': None, 'resources': None, 'queue_settings': None, 'swept': False}), 'split_node': Command({'parameters': {}, 'init': False, 'name': 'split_node', 'type': 'command', 'status': None, 'log_files': None, 'description': None, 'tags': {}, 'properties': {}, 'print_as_yaml': True, 'id': None, 'Resource__source_path': None, 'base_path': 'C:\\\\Users\\\\ASUS TUF DASH F15\\\\Desktop\\\\proy-2', 'creation_context': None, 'serialize': <msrest.serialization.Serializer object at 0x0000028E7A290190>, 'allowed_keys': {}, 'key_restriction': False, 'logger': <Logger attr_dict (WARNING)>, 'display_name': None, 'experiment_name': None, 'compute': None, 'services': None, 'comment': None, 'job_inputs': {'test_size': '0.2', 'random_state': '42', 'data_path': '${{parent.jobs.clean_node.outputs.cleaned_data}}'}, 'job_outputs': {}, 'inputs': {'test_size': <azure.ai.ml.entities._job.pipeline._io.base.NodeInput object at 0x0000028E7A2933A0>, 'random_state': <azure.ai.ml.entities._job.pipeline._io.base.NodeInput object at 0x0000028E7A2922C0>, 'data_path': <azure.ai.ml.entities._job.pipeline._io.base.NodeInput object at 0x0000028E7A293280>}, 'outputs': {}, 'component': 'azureml_anonymous:8837bfa3-6541-457e-8968-1b642c4d56bd', 'referenced_control_flow_node_instance_id': None, 'kwargs': {'services': None}, 'instance_id': '0d644d6c-8c16-42af-bdbd-83ab43f8d75c', 'source': 'REMOTE.WORKSPACE.COMPONENT', 'validate_required_input_not_provided': True, 'limits': None, 'identity': None, 'distribution': None, 'environment_variables': {}, 'environment': None, 'resources': None, 'queue_settings': None, 'swept': False}), 'train_dt_node': Command({'parameters': {}, 'init': False, 'name': 'train_dt_node', 'type': 'command', 'status': None, 'log_files': None, 'description': None, 'tags': {}, 'properties': {}, 'print_as_yaml': True, 'id': None, 'Resource__source_path': None, 'base_path': 'C:\\\\Users\\\\ASUS TUF DASH F15\\\\Desktop\\\\proy-2', 'creation_context': None, 'serialize': <msrest.serialization.Serializer object at 0x0000028E7A292170>, 'allowed_keys': {}, 'key_restriction': False, 'logger': <Logger attr_dict (WARNING)>, 'display_name': None, 'experiment_name': None, 'compute': None, 'services': None, 'comment': None, 'job_inputs': {'train_data_path': '${{parent.jobs.split_node.outputs.train_data}}'}, 'job_outputs': {'trained_model': '${{parent.outputs.pipeline_decission_tree_trained_model}}'}, 'inputs': {'train_data_path': <azure.ai.ml.entities._job.pipeline._io.base.NodeInput object at 0x0000028E7A2908B0>}, 'outputs': {'trained_model': <azure.ai.ml.entities._job.pipeline._io.base.NodeOutput object at 0x0000028E7A292680>}, 'component': 'azureml_anonymous:9e498de8-fae0-4b72-bffa-8eb067e4dc20', 'referenced_control_flow_node_instance_id': None, 'kwargs': {'services': None}, 'instance_id': 'c0584f6c-5c95-41fe-9e4f-fc2b9b87c0d3', 'source': 'REMOTE.WORKSPACE.COMPONENT', 'validate_required_input_not_provided': True, 'limits': None, 'identity': None, 'distribution': None, 'environment_variables': {}, 'environment': None, 'resources': None, 'queue_settings': None, 'swept': False}), 'score_node': Command({'parameters': {}, 'init': False, 'name': 'score_node', 'type': 'command', 'status': None, 'log_files': None, 'description': None, 'tags': {}, 'properties': {}, 'print_as_yaml': True, 'id': None, 'Resource__source_path': None, 'base_path': 'C:\\\\Users\\\\ASUS TUF DASH F15\\\\Desktop\\\\proy-2', 'creation_context': None, 'serialize': <msrest.serialization.Serializer object at 0x0000028E7A293880>, 'allowed_keys': {}, 'key_restriction': False, 'logger': <Logger attr_dict (WARNING)>, 'display_name': None, 'experiment_name': None, 'compute': None, 'services': None, 'comment': None, 'job_inputs': {'model_path': '${{parent.jobs.train_dt_node.outputs.trained_model}}', 'test_data_path': '${{parent.jobs.split_node.outputs.test_data}}'}, 'job_outputs': {}, 'inputs': {'model_path': <azure.ai.ml.entities._job.pipeline._io.base.NodeInput object at 0x0000028E7A292E90>, 'test_data_path': <azure.ai.ml.entities._job.pipeline._io.base.NodeInput object at 0x0000028E7A291720>}, 'outputs': {}, 'component': 'azureml_anonymous:e3bae257-3d95-4b33-aeaa-8513e7a235aa', 'referenced_control_flow_node_instance_id': None, 'kwargs': {'services': None}, 'instance_id': 'd64408fc-5d5d-4d7d-89c2-584367f5c5e3', 'source': 'REMOTE.WORKSPACE.COMPONENT', 'validate_required_input_not_provided': True, 'limits': None, 'identity': None, 'distribution': None, 'environment_variables': {}, 'environment': None, 'resources': None, 'queue_settings': None, 'swept': False}), 'evaluate_node': Command({'parameters': {}, 'init': False, 'name': 'evaluate_node', 'type': 'command', 'status': None, 'log_files': None, 'description': None, 'tags': {}, 'properties': {}, 'print_as_yaml': True, 'id': None, 'Resource__source_path': None, 'base_path': 'C:\\\\Users\\\\ASUS TUF DASH F15\\\\Desktop\\\\proy-2', 'creation_context': None, 'serialize': <msrest.serialization.Serializer object at 0x0000028E7A2909D0>, 'allowed_keys': {}, 'key_restriction': False, 'logger': <Logger attr_dict (WARNING)>, 'display_name': None, 'experiment_name': None, 'compute': None, 'services': None, 'comment': None, 'job_inputs': {'predictions_csv': '${{parent.jobs.score_node.outputs.predictions_csv}}', 'true_labels_csv': '${{parent.jobs.split_node.outputs.test_labels}}'}, 'job_outputs': {'report_csv': '${{parent.outputs.pipeline_decission_tree_evaluation_report}}', 'confusion_matrix': '${{parent.outputs.pipeline_decission_tree_confusion_matrix}}'}, 'inputs': {'predictions_csv': <azure.ai.ml.entities._job.pipeline._io.base.NodeInput object at 0x0000028E7A291510>, 'true_labels_csv': <azure.ai.ml.entities._job.pipeline._io.base.NodeInput object at 0x0000028E7A293B20>}, 'outputs': {'report_csv': <azure.ai.ml.entities._job.pipeline._io.base.NodeOutput object at 0x0000028E7A291600>, 'confusion_matrix': <azure.ai.ml.entities._job.pipeline._io.base.NodeOutput object at 0x0000028E7A290F10>}, 'component': 'azureml_anonymous:f4b971d7-f106-4bbd-9a47-3ac2a0dbaa2b', 'referenced_control_flow_node_instance_id': None, 'kwargs': {'services': None}, 'instance_id': '12536c91-6365-433e-8f16-e93f63ecca1b', 'source': 'REMOTE.WORKSPACE.COMPONENT', 'validate_required_input_not_provided': True, 'limits': None, 'identity': None, 'distribution': None, 'environment_variables': {}, 'environment': None, 'resources': None, 'queue_settings': None, 'swept': False})}, 'job_types': {'command': 6}, 'job_sources': {'REMOTE.WORKSPACE.COMPONENT': 6}, 'source_job_id': None}), 'type': 'pipeline', 'status': 'Preparing', 'log_files': None, 'name': 'gentle_iron_nq8c81gqbw', 'description': None, 'tags': {}, 'properties': {'mlflow.source.git.repoURL': 'https://github.com/mauriqb2/ml_pipelines_p2_ucb.git', 'mlflow.source.git.branch': 'master', 'mlflow.source.git.commit': 'c9bb312d08867db3d2f2f56cb1e2c22f172ccdce', 'azureml.git.dirty': 'True', 'azureml.DevPlatv2': 'true', 'azureml.DatasetAccessMode': 'Asset', 'azureml.runsource': 'azureml.PipelineRun', 'runSource': 'MFE', 'runType': 'HTTP', 'azureml.parameters': '{}', 'azureml.continue_on_step_failure': 'True', 'azureml.continue_on_failed_optional_input': 'True', 'azureml.enforceRerun': 'False', 'azureml.defaultComputeName': 'cpu-cluster', 'azureml.defaultDataStoreName': 'workspaceblobstore', 'azureml.pipelineComponent': 'pipelinerun'}, 'print_as_yaml': True, 'id': '/subscriptions/ba1f7bf8-2be6-4bed-b818-c745bda74905/resourceGroups/primer_proyecto/providers/Microsoft.MachineLearningServices/workspaces/primer_proyecto/jobs/gentle_iron_nq8c81gqbw', 'Resource__source_path': None, 'base_path': 'C:\\\\Users\\\\ASUS TUF DASH F15\\\\Desktop\\\\proy-2', 'creation_context': <azure.ai.ml.entities._system_data.SystemData object at 0x0000028E7A292B90>, 'serialize': <msrest.serialization.Serializer object at 0x0000028E7A293220>, 'display_name': 'water_potability_decission_tree', 'experiment_name': 'pipeline_water_potability', 'compute': None, 'services': {'Tracking': {'endpoint': 'azureml://eastus2.api.azureml.ms/mlflow/v1.0/subscriptions/ba1f7bf8-2be6-4bed-b818-c745bda74905/resourceGroups/primer_proyecto/providers/Microsoft.MachineLearningServices/workspaces/primer_proyecto?', 'type': 'Tracking'}, 'Studio': {'endpoint': 'https://ml.azure.com/runs/gentle_iron_nq8c81gqbw?wsid=/subscriptions/ba1f7bf8-2be6-4bed-b818-c745bda74905/resourcegroups/primer_proyecto/workspaces/primer_proyecto&tid=cc28633f-12b8-46cb-bc15-951dae239b4d', 'type': 'Studio'}}, 'settings': {}, 'identity': None, 'default_code': None, 'default_environment': None})"
      ]
     },
     "execution_count": 218,
     "metadata": {},
     "output_type": "execute_result"
    }
   ],
   "source": [
    "pipeline_job = ml_client.jobs.create_or_update(\n",
    "    pipeline_job, experiment_name=\"pipeline_water_potability\"\n",
    ")\n",
    "pipeline_job"
   ]
  },
  {
   "cell_type": "code",
   "execution_count": 219,
   "id": "b4dd2981",
   "metadata": {},
   "outputs": [
    {
     "name": "stdout",
     "output_type": "stream",
     "text": [
      "RunId: gentle_iron_nq8c81gqbw\n",
      "Web View: https://ml.azure.com/runs/gentle_iron_nq8c81gqbw?wsid=/subscriptions/ba1f7bf8-2be6-4bed-b818-c745bda74905/resourcegroups/primer_proyecto/workspaces/primer_proyecto\n",
      "\n",
      "Execution Summary\n",
      "=================\n",
      "RunId: gentle_iron_nq8c81gqbw\n",
      "Web View: https://ml.azure.com/runs/gentle_iron_nq8c81gqbw?wsid=/subscriptions/ba1f7bf8-2be6-4bed-b818-c745bda74905/resourcegroups/primer_proyecto/workspaces/primer_proyecto\n",
      "\n"
     ]
    }
   ],
   "source": [
    "# wait until the job completes\n",
    "ml_client.jobs.stream(pipeline_job.name)"
   ]
  },
  {
   "cell_type": "code",
   "execution_count": 220,
   "id": "fcb5dea5",
   "metadata": {},
   "outputs": [
    {
     "name": "stderr",
     "output_type": "stream",
     "text": [
      "Downloading artifact azureml://subscriptions/ba1f7bf8-2be6-4bed-b818-c745bda74905/resourcegroups/primer_proyecto/workspaces/primer_proyecto/datastores/workspaceblobstore/paths/azureml/3b624e25-e242-4aa2-9008-613914e2bac1/trained_model to pipeline_output\\named-outputs\\pipeline_decission_tree_trained_model\n",
      "Downloading artifact azureml://subscriptions/ba1f7bf8-2be6-4bed-b818-c745bda74905/resourcegroups/primer_proyecto/workspaces/primer_proyecto/datastores/workspaceblobstore/paths/azureml/28f4e1d4-44cd-4169-b3c9-5ab671e29752/report_csv to pipeline_output\\named-outputs\\pipeline_decission_tree_evaluation_report\n",
      "Downloading artifact azureml://subscriptions/ba1f7bf8-2be6-4bed-b818-c745bda74905/resourcegroups/primer_proyecto/workspaces/primer_proyecto/datastores/workspaceblobstore/paths/azureml/28f4e1d4-44cd-4169-b3c9-5ab671e29752/confusion_matrix/ to pipeline_output\\named-outputs\\pipeline_decission_tree_confusion_matrix\n",
      "Downloading artifact azureml://datastores/workspaceartifactstore/paths/ExperimentRun/dcid.gentle_iron_nq8c81gqbw/ to pipeline_output\\artifacts\n"
     ]
    }
   ],
   "source": [
    "# Download all the outputs of the job\n",
    "output = ml_client.jobs.download(name=pipeline_job.name, download_path='./pipeline_output', all=True)"
   ]
  },
  {
   "cell_type": "code",
   "execution_count": null,
   "id": "95681a8c",
   "metadata": {},
   "outputs": [],
   "source": []
  }
 ],
 "metadata": {
  "kernelspec": {
   "display_name": "Python 3 (ipykernel)",
   "language": "python",
   "name": "python3"
  },
  "language_info": {
   "codemirror_mode": {
    "name": "ipython",
    "version": 3
   },
   "file_extension": ".py",
   "mimetype": "text/x-python",
   "name": "python",
   "nbconvert_exporter": "python",
   "pygments_lexer": "ipython3",
   "version": "3.10.13"
  }
 },
 "nbformat": 4,
 "nbformat_minor": 5
}
